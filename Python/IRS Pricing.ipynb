{
 "cells": [
  {
   "cell_type": "markdown",
   "id": "6ce05e6b",
   "metadata": {},
   "source": [
    "Part #1 - Some Global Functions\n",
    "\n",
    "Function A - Importing Market Data"
   ]
  },
  {
   "cell_type": "code",
   "execution_count": 57,
   "id": "8d5216f3",
   "metadata": {},
   "outputs": [],
   "source": [
    "# n = Name of the excel file\n",
    "# s = Sheet Name within the excel file\n",
    "# r = Range of data which needs to be imported\n",
    "# d = Data object that needs to be sent while exporting back\n",
    "\n",
    "def import_excel(n,s,r):\n",
    "    import xlwings as xw\n",
    "    wb = xw.Book(n)\n",
    "    sheet = wb.sheets[s]\n",
    "    data = sheet.range(r).value\n",
    "    return data \n",
    "\n",
    "def export_excel(n,s,r,d):\n",
    "    import xlwings as xw\n",
    "    wb = xw.Book(n)\n",
    "    sheet = wb.sheets[s]\n",
    "    sheet.range(r).value = d\n",
    "\n",
    "\n"
   ]
  },
  {
   "cell_type": "code",
   "execution_count": null,
   "id": "112349f3",
   "metadata": {},
   "outputs": [
    {
     "name": "stdout",
     "output_type": "stream",
     "text": [
      "[[1.0, 0.0407498], [2.0, 0.037767], [3.0, 0.037051], [4.0, 0.03707], [5.0, 0.0373805], [6.0, 0.037867], [7.0, 0.0383775], [8.0, 0.0388615], [9.0, 0.0393125], [10.0, 0.0397465]]\n"
     ]
    }
   ],
   "source": [
    "data = import_excel('Market Data.xlsx','USDIRS','A3:B12')\n",
    "#print(data)"
   ]
  },
  {
   "cell_type": "markdown",
   "id": "d2b91517",
   "metadata": {},
   "source": [
    "Function B - MFBD Holiday Calendar"
   ]
  },
  {
   "cell_type": "code",
   "execution_count": 4,
   "id": "bc2f55c2",
   "metadata": {},
   "outputs": [],
   "source": [
    "#dt = Date on which operation is to be performed\n",
    "#cal1 = Country of Calendar 1, For USA pass argument US\n",
    "#cal2 = Country of Calendar 2, For India pass argument IN .. This is an optional argument\n",
    "# At present this function suports a max of 2 calendars only for MFBD\n",
    "\n",
    "def mfbd(dt,cal1, cal2=\"NIL\"):\n",
    "    from datetime import date\n",
    "    from datetime import timedelta\n",
    "    import holidays\n",
    "    calendar1 = holidays.country_holidays(cal1)\n",
    "    if cal2 == \"NIL\":\n",
    "        while dt.weekday() > 4 or dt in calendar1:\n",
    "            dt = dt + timedelta(days=1)\n",
    "    else:\n",
    "        calendar2 = holidays.country_holidays(cal2)\n",
    "        while dt.weekday() > 4 or dt in calendar1 or dt in calendar2:\n",
    "            dt = dt + timedelta(days=1)\n",
    "    #dt = date(2025,5,24)\n",
    "    return dt\n"
   ]
  },
  {
   "cell_type": "markdown",
   "id": "1e488e4d",
   "metadata": {},
   "source": [
    "Part #2 - Compute the Maturity Date and Payment Date for Swaps"
   ]
  },
  {
   "cell_type": "code",
   "execution_count": 16,
   "id": "484f43fe",
   "metadata": {},
   "outputs": [],
   "source": [
    "from datetime import date,timedelta\n",
    "import holidays\n",
    "import pandas as pd\n",
    "\n",
    "#PricingDate = date.today() #Use todays date as the Pricing Date\n",
    "PricingDate = date(2025,5,19) # For testing currently\n",
    "SDate = mfbd(PricingDate + timedelta(days=2),'US') #Calculating the Spot Start Date\n",
    "#print(PricingDate)\n",
    "#print(SDate)\n",
    "#print(MatYears)\n",
    "#print(SDate.year)\n",
    "df = pd.DataFrame(data)\n",
    "df.columns = ['Year','Rate']\n",
    "#df.interpolate()\n",
    "#print(df)\n",
    "df['MatDate'] = SDate \n",
    "df['PmtDate'] = SDate\n",
    "\n",
    "#Populate Maturity Date and Payment Date adjusting for pay delay\n",
    "\n",
    "for index,row in df.iterrows():\n",
    "    df.at[index,'MatDate'] = mfbd(row['MatDate'] + pd.offsets.DateOffset(years=row['Year']),'US')\n",
    "    df.at[index,'PmtDate'] = mfbd(df.at[index,'MatDate'] + pd.offsets.DateOffset(days=2),'US') #SOFR Swaps have 2 days Payment Delay\n",
    "    \n",
    "   \n",
    "df['MatDate'] = pd.to_datetime(df['MatDate']).dt.date # To remove hh:mm:ss from Date\n",
    "df['PmtDate'] = pd.to_datetime(df['PmtDate']).dt.date\n",
    "df['DC'] = df['PmtDate'].diff(periods=1) #Compute Periodic day counts\n",
    "df.at[0,'DC']= pd.to_timedelta(df.at[0,'PmtDate']-SDate) #Compute first DC value from Start Date\n",
    "df['DC']=pd.to_timedelta(df['DC']).dt.days.astype(float)/360 #Since Daycount is Act/360 for USD SOFR\n",
    "#df['DC'] = df['DC']\n",
    "#for each i in df['Year']:\n",
    "#    df['MatDate'] = SDate + pd.offsets.DateOffset(years=i)\n",
    "\n",
    "#df['MatDate'] = date(SDate.year + df['Year'],SDate.month,SDate.day)\n",
    "#print(df)    \n",
    "#df.interpolate()\n",
    "\n"
   ]
  },
  {
   "cell_type": "markdown",
   "id": "fe026d33",
   "metadata": {},
   "source": [
    "Part #3 - Compute Discount Factors and Zeros (Aka Curve Bootstrapping)"
   ]
  },
  {
   "cell_type": "code",
   "execution_count": 28,
   "id": "3a0be3ff",
   "metadata": {},
   "outputs": [
    {
     "name": "stdout",
     "output_type": "stream",
     "text": [
      "   Year      Rate     MatDate     PmtDate        DC        DF      Zero\n",
      "0   1.0  0.040750  2026-05-21  2026-05-26  1.027778  0.959802  0.040474\n",
      "1   2.0  0.037767  2027-05-21  2027-05-24  1.008333  0.927426  0.037517\n",
      "2   3.0  0.037051  2028-05-22  2028-05-24  1.016667  0.895086  0.036878\n",
      "3   4.0  0.037070  2029-05-21  2029-05-23  1.011111  0.862696  0.036873\n",
      "4   5.0  0.037380  2030-05-21  2030-05-23  1.013889  0.830086  0.037204\n",
      "5   6.0  0.037867  2031-05-21  2031-05-23  1.013889  0.797265  0.037727\n",
      "6   7.0  0.038378  2032-05-21  2032-05-24  1.019444  0.764618  0.038295\n",
      "7   8.0  0.038862  2033-05-23  2033-05-25  1.016667  0.732701  0.038851\n",
      "8   9.0  0.039313  2034-05-22  2034-05-24  1.011111  0.701706  0.039336\n",
      "9  10.0  0.039746  2035-05-21  2035-05-23  1.011111  0.671430  0.039813\n"
     ]
    }
   ],
   "source": [
    "import numpy as np\n",
    "df['DF'] = 1\n",
    "df['DF'] = df['DF'].astype(float)\n",
    "SDate = mfbd(SDate,'US')\n",
    "\n",
    "#Just testing, delete later\n",
    "for index,row in df.iterrows():\n",
    "    df.at[index,'DF'] = 1/(pow(1+row['Rate'],row['Year']))\n",
    "\n",
    "#print(df)\n",
    "#dd = (df.at[0,'MatDate'] - SDate).days\n",
    "#print(dd)\n",
    "#df.at[0,'DF'] = 1/(1+df.at[0,'Rate']*(df.at[0,'PmtDate']-SDate).days/360)\n",
    "\n",
    "#Compute actual Curve DFs for USD SOFR\n",
    "#The for loop is massively simplified to solve a linear system of equations. Will write a full document on how this is calculated later. For queries in the interim email pushkargondane@gmail.com \n",
    "dfdccumprodsum = 0\n",
    "for index,row in df.iterrows():\n",
    "    df.at[index,'DF'] = (1 - df.at[index,'Rate']*dfdccumprodsum)/(1+df.at[index,'Rate']*df.at[index,'DC'])\n",
    "    dfdccumprodsum = dfdccumprodsum + df.at[index,'DC']*df.at[index,'DF']\n",
    "\n",
    "#Compute Zeros for USD SOFR\n",
    "# Please note that zeros requires an assumption of the approach. Here we are going to try and match\n",
    "# it with that of bloomberg by assuming continuous compounding\n",
    "# Different systems implement this bit in a different manner\n",
    "\n",
    "\n",
    "df['Zero']=1\n",
    "df['Zero'] = df['Zero'].astype(float)\n",
    "for index,row in df.iterrows():\n",
    "    p = pd.to_timedelta(df.at[index,'PmtDate']-df.at[index,'MatDate'])\n",
    "    t = float(p.days)/365 + df.at[index,'Year']\n",
    "    #print(t)\n",
    "    df.at[index,'Zero'] = np.log(1/df.at[index,'DF'])/t\n",
    "    \n",
    "\n",
    "\n",
    "print(df)\n"
   ]
  },
  {
   "cell_type": "markdown",
   "id": "253de67c",
   "metadata": {},
   "source": [
    "Part #4 - Validate DF vs Alternate System like Bloomberg\n",
    "\n",
    "![title][def]\n",
    "\n",
    "[def]: SOFRBBG.png"
   ]
  },
  {
   "cell_type": "code",
   "execution_count": 70,
   "id": "8ffdd969",
   "metadata": {},
   "outputs": [
    {
     "name": "stdout",
     "output_type": "stream",
     "text": [
      "   Year     MatDate     PmtDate        DF      Zero     BBGDF   BBGZero  \\\n",
      "0   1.0  2026-05-21  2026-05-26  0.959802  0.040474  0.960094  0.040502   \n",
      "1   2.0  2027-05-21  2027-05-24  0.927426  0.037517  0.927482  0.037538   \n",
      "2   3.0  2028-05-22  2028-05-24  0.895086  0.036878  0.895045  0.036826   \n",
      "3   4.0  2029-05-21  2029-05-23  0.862696  0.036873  0.862658  0.036859   \n",
      "4   5.0  2030-05-21  2030-05-23  0.830086  0.037204  0.830051  0.037193   \n",
      "5   6.0  2031-05-21  2031-05-23  0.797265  0.037727  0.797234  0.037716   \n",
      "6   7.0  2032-05-21  2032-05-24  0.764618  0.038295  0.764668  0.038271   \n",
      "7   8.0  2033-05-23  2033-05-25  0.732701  0.038851  0.732677  0.038802   \n",
      "8   9.0  2034-05-22  2034-05-24  0.701706  0.039336  0.701686  0.039303   \n",
      "9  10.0  2035-05-21  2035-05-23  0.671430  0.039813  0.671413  0.039794   \n",
      "\n",
      "   DF Gap(bps)  Zero Gap(bps)  \n",
      "0     3.043136       6.936892  \n",
      "1     0.600978       5.616469  \n",
      "2    -0.453521     -14.162227  \n",
      "3    -0.444027      -3.806096  \n",
      "4    -0.424608      -3.162720  \n",
      "5    -0.395006      -2.811359  \n",
      "6     0.658414      -6.361351  \n",
      "7    -0.323512     -12.637953  \n",
      "8    -0.288918      -8.292641  \n",
      "9    -0.248494      -4.845787  \n"
     ]
    },
    {
     "name": "stderr",
     "output_type": "stream",
     "text": [
      "/var/folders/5g/4br4skc15dlb750j33xn06rh0000gn/T/ipykernel_1869/3610128809.py:8: SettingWithCopyWarning: \n",
      "A value is trying to be set on a copy of a slice from a DataFrame.\n",
      "Try using .loc[row_indexer,col_indexer] = value instead\n",
      "\n",
      "See the caveats in the documentation: https://pandas.pydata.org/pandas-docs/stable/user_guide/indexing.html#returning-a-view-versus-a-copy\n",
      "  comp['BBGDF'] = bbg['BBGDF'] #Need to find a better method to append columns as this is giving a warning\n"
     ]
    }
   ],
   "source": [
    "bbgdata = import_excel('Market Data.xlsx','USDIRS','g3:h12')\n",
    "bbg = pd.DataFrame(bbgdata)\n",
    "bbg.columns=['BBGDF','BBGZero']\n",
    "#print(bbg)\n",
    "comp = df[['Year','MatDate','PmtDate','DF','Zero']]\n",
    "#comp.append(bbg)\n",
    "#comp.join(bbg)\n",
    "comp['BBGDF'] = bbg['BBGDF'] #Need to find a better method to append columns as this is giving a warning \n",
    "#comp.assign(bbgdata)\n",
    "#comp['BBGDF'] = bbg.loc[:,'BBGDF']\n",
    "comp['BBGZero'] = bbg['BBGZero']\n",
    "#comp['BBGZero'] = bbg.loc[:,'BBGZero']\n",
    "comp['DF Gap(bps)']=(comp['BBGDF']-comp['DF'])*10000/comp['BBGDF']\n",
    "comp['Zero Gap(bps)']=(comp['BBGZero']-comp['Zero'])*10000/comp['BBGZero']\n",
    "print(comp)\n",
    "comp=comp.drop(columns=['Year','BBGDF','BBGZero','DF Gap(bps)','Zero Gap(bps)'])"
   ]
  },
  {
   "cell_type": "markdown",
   "id": "5bf05052",
   "metadata": {},
   "source": [
    "Note that while the gap in DFs is miniscule (less than 1 bps vs BBG DFs) the zeros are slightly more different. They dont impact any calculations as the approach to calculate zeros simply depends on the base formula used for zeros. \n",
    "\n",
    "Valuation differences may arise if you choose to interpolate on zeros vs interpolate on DFs "
   ]
  },
  {
   "cell_type": "markdown",
   "id": "30e8f03d",
   "metadata": {},
   "source": [
    "Part #5 - Sending the DFs and Zeros calculated back to excel"
   ]
  },
  {
   "cell_type": "code",
   "execution_count": 71,
   "id": "4b37d99e",
   "metadata": {},
   "outputs": [],
   "source": [
    "export_excel('Market Data.xlsx','USDIRS','L2:L11',comp)"
   ]
  },
  {
   "cell_type": "markdown",
   "id": "01d3421d",
   "metadata": {},
   "source": [
    "Part #6 - Pricing an Interest Rate Swap\n",
    "\n"
   ]
  }
 ],
 "metadata": {
  "kernelspec": {
   "display_name": "Python 3",
   "language": "python",
   "name": "python3"
  },
  "language_info": {
   "codemirror_mode": {
    "name": "ipython",
    "version": 3
   },
   "file_extension": ".py",
   "mimetype": "text/x-python",
   "name": "python",
   "nbconvert_exporter": "python",
   "pygments_lexer": "ipython3",
   "version": "3.13.3"
  }
 },
 "nbformat": 4,
 "nbformat_minor": 5
}
